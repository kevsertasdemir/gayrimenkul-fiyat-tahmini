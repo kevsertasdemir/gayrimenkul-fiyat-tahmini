{
 "cells": [
  {
   "cell_type": "code",
   "execution_count": 2,
   "id": "b780d50f",
   "metadata": {},
   "outputs": [],
   "source": [
    "import pandas as pd\n",
    "import seaborn as sns\n",
    "import matplotlib.pyplot as plt\n",
    "import pandas as pd\n",
    "import xgboost as xgb\n",
    "from xgboost import XGBRegressor\n",
    "from sklearn.model_selection import train_test_split, GridSearchCV,cross_val_score\n",
    "from sklearn.metrics import mean_squared_error, r2_score\n",
    "import numpy as np\n",
    "from sklearn import model_selection\n"
   ]
  },
  {
   "cell_type": "code",
   "execution_count": 3,
   "id": "a5676197",
   "metadata": {},
   "outputs": [],
   "source": [
    "df = pd.read_excel(\"evler.xlsx\")"
   ]
  },
  {
   "cell_type": "code",
   "execution_count": 4,
   "id": "fed0b435",
   "metadata": {},
   "outputs": [
    {
     "name": "stdout",
     "output_type": "stream",
     "text": [
      "<class 'pandas.core.frame.DataFrame'>\n",
      "RangeIndex: 99 entries, 0 to 98\n",
      "Data columns (total 7 columns):\n",
      " #   Column         Non-Null Count  Dtype\n",
      "---  ------         --------------  -----\n",
      " 0   ilce           99 non-null     int64\n",
      " 1   turu           99 non-null     int64\n",
      " 2   net_metrekare  99 non-null     int64\n",
      " 3   oda_sayisi     99 non-null     int64\n",
      " 4   kat            99 non-null     int64\n",
      " 5   yas            99 non-null     int64\n",
      " 6   fiyat          99 non-null     int64\n",
      "dtypes: int64(7)\n",
      "memory usage: 5.5 KB\n"
     ]
    }
   ],
   "source": [
    "df.info()"
   ]
  },
  {
   "cell_type": "code",
   "execution_count": 5,
   "id": "176c201a",
   "metadata": {},
   "outputs": [
    {
     "data": {
      "text/html": [
       "<div>\n",
       "<style scoped>\n",
       "    .dataframe tbody tr th:only-of-type {\n",
       "        vertical-align: middle;\n",
       "    }\n",
       "\n",
       "    .dataframe tbody tr th {\n",
       "        vertical-align: top;\n",
       "    }\n",
       "\n",
       "    .dataframe thead th {\n",
       "        text-align: right;\n",
       "    }\n",
       "</style>\n",
       "<table border=\"1\" class=\"dataframe\">\n",
       "  <thead>\n",
       "    <tr style=\"text-align: right;\">\n",
       "      <th></th>\n",
       "      <th>count</th>\n",
       "      <th>mean</th>\n",
       "      <th>std</th>\n",
       "      <th>min</th>\n",
       "      <th>25%</th>\n",
       "      <th>50%</th>\n",
       "      <th>75%</th>\n",
       "      <th>max</th>\n",
       "    </tr>\n",
       "  </thead>\n",
       "  <tbody>\n",
       "    <tr>\n",
       "      <th>ilce</th>\n",
       "      <td>99.0</td>\n",
       "      <td>6.818182</td>\n",
       "      <td>2.442663</td>\n",
       "      <td>1.0</td>\n",
       "      <td>6.0</td>\n",
       "      <td>7.0</td>\n",
       "      <td>9.0</td>\n",
       "      <td>10.0</td>\n",
       "    </tr>\n",
       "    <tr>\n",
       "      <th>turu</th>\n",
       "      <td>99.0</td>\n",
       "      <td>11.282828</td>\n",
       "      <td>0.452666</td>\n",
       "      <td>11.0</td>\n",
       "      <td>11.0</td>\n",
       "      <td>11.0</td>\n",
       "      <td>12.0</td>\n",
       "      <td>12.0</td>\n",
       "    </tr>\n",
       "    <tr>\n",
       "      <th>net_metrekare</th>\n",
       "      <td>99.0</td>\n",
       "      <td>164.717172</td>\n",
       "      <td>126.509179</td>\n",
       "      <td>48.0</td>\n",
       "      <td>120.0</td>\n",
       "      <td>145.0</td>\n",
       "      <td>165.0</td>\n",
       "      <td>1000.0</td>\n",
       "    </tr>\n",
       "    <tr>\n",
       "      <th>oda_sayisi</th>\n",
       "      <td>99.0</td>\n",
       "      <td>3.919192</td>\n",
       "      <td>0.922251</td>\n",
       "      <td>2.0</td>\n",
       "      <td>3.0</td>\n",
       "      <td>4.0</td>\n",
       "      <td>4.0</td>\n",
       "      <td>10.0</td>\n",
       "    </tr>\n",
       "    <tr>\n",
       "      <th>kat</th>\n",
       "      <td>99.0</td>\n",
       "      <td>2.888889</td>\n",
       "      <td>2.014685</td>\n",
       "      <td>1.0</td>\n",
       "      <td>2.0</td>\n",
       "      <td>2.0</td>\n",
       "      <td>3.5</td>\n",
       "      <td>12.0</td>\n",
       "    </tr>\n",
       "    <tr>\n",
       "      <th>yas</th>\n",
       "      <td>99.0</td>\n",
       "      <td>6.353535</td>\n",
       "      <td>6.389266</td>\n",
       "      <td>1.0</td>\n",
       "      <td>1.0</td>\n",
       "      <td>5.0</td>\n",
       "      <td>8.0</td>\n",
       "      <td>29.0</td>\n",
       "    </tr>\n",
       "    <tr>\n",
       "      <th>fiyat</th>\n",
       "      <td>99.0</td>\n",
       "      <td>548950.616162</td>\n",
       "      <td>260940.039928</td>\n",
       "      <td>159000.0</td>\n",
       "      <td>392500.0</td>\n",
       "      <td>480000.0</td>\n",
       "      <td>627500.0</td>\n",
       "      <td>2000000.0</td>\n",
       "    </tr>\n",
       "  </tbody>\n",
       "</table>\n",
       "</div>"
      ],
      "text/plain": [
       "               count           mean            std       min       25%  \\\n",
       "ilce            99.0       6.818182       2.442663       1.0       6.0   \n",
       "turu            99.0      11.282828       0.452666      11.0      11.0   \n",
       "net_metrekare   99.0     164.717172     126.509179      48.0     120.0   \n",
       "oda_sayisi      99.0       3.919192       0.922251       2.0       3.0   \n",
       "kat             99.0       2.888889       2.014685       1.0       2.0   \n",
       "yas             99.0       6.353535       6.389266       1.0       1.0   \n",
       "fiyat           99.0  548950.616162  260940.039928  159000.0  392500.0   \n",
       "\n",
       "                    50%       75%        max  \n",
       "ilce                7.0       9.0       10.0  \n",
       "turu               11.0      12.0       12.0  \n",
       "net_metrekare     145.0     165.0     1000.0  \n",
       "oda_sayisi          4.0       4.0       10.0  \n",
       "kat                 2.0       3.5       12.0  \n",
       "yas                 5.0       8.0       29.0  \n",
       "fiyat          480000.0  627500.0  2000000.0  "
      ]
     },
     "execution_count": 5,
     "metadata": {},
     "output_type": "execute_result"
    }
   ],
   "source": [
    "df.describe().T"
   ]
  },
  {
   "cell_type": "code",
   "execution_count": 6,
   "id": "8f2780fc",
   "metadata": {},
   "outputs": [
    {
     "data": {
      "text/html": [
       "<div>\n",
       "<style scoped>\n",
       "    .dataframe tbody tr th:only-of-type {\n",
       "        vertical-align: middle;\n",
       "    }\n",
       "\n",
       "    .dataframe tbody tr th {\n",
       "        vertical-align: top;\n",
       "    }\n",
       "\n",
       "    .dataframe thead th {\n",
       "        text-align: right;\n",
       "    }\n",
       "</style>\n",
       "<table border=\"1\" class=\"dataframe\">\n",
       "  <thead>\n",
       "    <tr style=\"text-align: right;\">\n",
       "      <th></th>\n",
       "      <th>ilce</th>\n",
       "      <th>turu</th>\n",
       "      <th>net_metrekare</th>\n",
       "      <th>oda_sayisi</th>\n",
       "      <th>kat</th>\n",
       "      <th>yas</th>\n",
       "      <th>fiyat</th>\n",
       "    </tr>\n",
       "  </thead>\n",
       "  <tbody>\n",
       "    <tr>\n",
       "      <th>0</th>\n",
       "      <td>4</td>\n",
       "      <td>11</td>\n",
       "      <td>150</td>\n",
       "      <td>3</td>\n",
       "      <td>1</td>\n",
       "      <td>26</td>\n",
       "      <td>350000</td>\n",
       "    </tr>\n",
       "    <tr>\n",
       "      <th>1</th>\n",
       "      <td>4</td>\n",
       "      <td>11</td>\n",
       "      <td>140</td>\n",
       "      <td>4</td>\n",
       "      <td>3</td>\n",
       "      <td>8</td>\n",
       "      <td>690000</td>\n",
       "    </tr>\n",
       "    <tr>\n",
       "      <th>2</th>\n",
       "      <td>4</td>\n",
       "      <td>11</td>\n",
       "      <td>110</td>\n",
       "      <td>5</td>\n",
       "      <td>1</td>\n",
       "      <td>18</td>\n",
       "      <td>267500</td>\n",
       "    </tr>\n",
       "    <tr>\n",
       "      <th>3</th>\n",
       "      <td>10</td>\n",
       "      <td>11</td>\n",
       "      <td>100</td>\n",
       "      <td>3</td>\n",
       "      <td>2</td>\n",
       "      <td>18</td>\n",
       "      <td>285000</td>\n",
       "    </tr>\n",
       "    <tr>\n",
       "      <th>4</th>\n",
       "      <td>10</td>\n",
       "      <td>12</td>\n",
       "      <td>160</td>\n",
       "      <td>4</td>\n",
       "      <td>7</td>\n",
       "      <td>14</td>\n",
       "      <td>570000</td>\n",
       "    </tr>\n",
       "  </tbody>\n",
       "</table>\n",
       "</div>"
      ],
      "text/plain": [
       "   ilce  turu  net_metrekare  oda_sayisi  kat  yas   fiyat\n",
       "0     4    11            150           3    1   26  350000\n",
       "1     4    11            140           4    3    8  690000\n",
       "2     4    11            110           5    1   18  267500\n",
       "3    10    11            100           3    2   18  285000\n",
       "4    10    12            160           4    7   14  570000"
      ]
     },
     "execution_count": 6,
     "metadata": {},
     "output_type": "execute_result"
    }
   ],
   "source": [
    "df.head()"
   ]
  },
  {
   "cell_type": "code",
   "execution_count": 7,
   "id": "21ff429f",
   "metadata": {},
   "outputs": [
    {
     "data": {
      "text/plain": [
       "9     28\n",
       "6     18\n",
       "7     17\n",
       "8     12\n",
       "2      6\n",
       "1      5\n",
       "10     5\n",
       "4      3\n",
       "5      3\n",
       "3      2\n",
       "Name: ilce, dtype: int64"
      ]
     },
     "execution_count": 7,
     "metadata": {},
     "output_type": "execute_result"
    }
   ],
   "source": [
    "df.ilce.value_counts()"
   ]
  },
  {
   "cell_type": "code",
   "execution_count": 8,
   "id": "4a440eec",
   "metadata": {},
   "outputs": [
    {
     "data": {
      "text/plain": [
       "<AxesSubplot:>"
      ]
     },
     "execution_count": 8,
     "metadata": {},
     "output_type": "execute_result"
    },
    {
     "data": {
      "image/png": "[encoded data removed]",
      "text/plain": [
       "<Figure size 432x288 with 1 Axes>"
      ]
     },
     "metadata": {
      "needs_background": "light"
     },
     "output_type": "display_data"
    }
   ],
   "source": [
    "df.ilce.value_counts().plot.barh()"
   ]
  },
  {
   "cell_type": "code",
   "execution_count": 9,
   "id": "9bf19101",
   "metadata": {},
   "outputs": [
    {
     "data": {
      "text/plain": [
       "11    71\n",
       "12    28\n",
       "Name: turu, dtype: int64"
      ]
     },
     "execution_count": 9,
     "metadata": {},
     "output_type": "execute_result"
    }
   ],
   "source": [
    "df.turu.value_counts()"
   ]
  },
  {
   "cell_type": "code",
   "execution_count": 10,
   "id": "acd29263",
   "metadata": {},
   "outputs": [
    {
     "data": {
      "text/plain": [
       "<AxesSubplot:>"
      ]
     },
     "execution_count": 10,
     "metadata": {},
     "output_type": "execute_result"
    },
    {
     "data": {
      "image/png": "[encoded data removed]",
      "text/plain": [
       "<Figure size 432x288 with 1 Axes>"
      ]
     },
     "metadata": {
      "needs_background": "light"
     },
     "output_type": "display_data"
    }
   ],
   "source": [
    "df.turu.value_counts().plot.barh()"
   ]
  },
  {
   "cell_type": "code",
   "execution_count": 11,
   "id": "2060b9f4",
   "metadata": {},
   "outputs": [
    {
     "data": {
      "text/plain": [
       "count      99.000000\n",
       "mean      164.717172\n",
       "std       126.509179\n",
       "min        48.000000\n",
       "25%       120.000000\n",
       "50%       145.000000\n",
       "75%       165.000000\n",
       "max      1000.000000\n",
       "Name: net_metrekare, dtype: float64"
      ]
     },
     "execution_count": 11,
     "metadata": {},
     "output_type": "execute_result"
    }
   ],
   "source": [
    "df.net_metrekare.describe()"
   ]
  },
  {
   "cell_type": "code",
   "execution_count": 12,
   "id": "88b51988",
   "metadata": {},
   "outputs": [
    {
     "data": {
      "text/plain": [
       "4     59\n",
       "3     24\n",
       "5     12\n",
       "2      2\n",
       "6      1\n",
       "10     1\n",
       "Name: oda_sayisi, dtype: int64"
      ]
     },
     "execution_count": 12,
     "metadata": {},
     "output_type": "execute_result"
    }
   ],
   "source": [
    "df.oda_sayisi.value_counts()"
   ]
  },
  {
   "cell_type": "code",
   "execution_count": 13,
   "id": "f14d464e",
   "metadata": {},
   "outputs": [
    {
     "data": {
      "text/plain": [
       "<AxesSubplot:>"
      ]
     },
     "execution_count": 13,
     "metadata": {},
     "output_type": "execute_result"
    },
    {
     "data": {
      "image/png": "[encoded data removed]",
      "text/plain": [
       "<Figure size 432x288 with 1 Axes>"
      ]
     },
     "metadata": {
      "needs_background": "light"
     },
     "output_type": "display_data"
    }
   ],
   "source": [
    "df.oda_sayisi.value_counts().plot.barh()"
   ]
  },
  {
   "cell_type": "code",
   "execution_count": 14,
   "id": "2cf9a29c",
   "metadata": {},
   "outputs": [
    {
     "data": {
      "text/plain": [
       "1     29\n",
       "6     16\n",
       "4      8\n",
       "8      7\n",
       "5      7\n",
       "12     6\n",
       "3      6\n",
       "2      4\n",
       "18     3\n",
       "7      2\n",
       "14     2\n",
       "17     2\n",
       "9      1\n",
       "15     1\n",
       "22     1\n",
       "24     1\n",
       "26     1\n",
       "28     1\n",
       "29     1\n",
       "Name: yas, dtype: int64"
      ]
     },
     "execution_count": 14,
     "metadata": {},
     "output_type": "execute_result"
    }
   ],
   "source": [
    "df.yas.value_counts()"
   ]
  },
  {
   "cell_type": "code",
   "execution_count": 15,
   "id": "046a333e",
   "metadata": {},
   "outputs": [
    {
     "data": {
      "text/plain": [
       "Text(0, 0.5, 'yas')"
      ]
     },
     "execution_count": 15,
     "metadata": {},
     "output_type": "execute_result"
    },
    {
     "data": {
      "image/png": "[encoded data removed]",
      "text/plain": [
       "<Figure size 360x1080 with 1 Axes>"
      ]
     },
     "metadata": {},
     "output_type": "display_data"
    }
   ],
   "source": [
    "fig = plt.figure(figsize=(5,15))\n",
    "df.yas.value_counts().plot(kind = 'pie',autopct='%.1f%%');\n",
    "plt.ylabel(\"yas\", fontsize = 20)"
   ]
  },
  {
   "cell_type": "code",
   "execution_count": 16,
   "id": "155c129c",
   "metadata": {},
   "outputs": [
    {
     "data": {
      "text/plain": [
       "2     33\n",
       "3     21\n",
       "1     20\n",
       "4     10\n",
       "5     10\n",
       "12     2\n",
       "6      1\n",
       "7      1\n",
       "10     1\n",
       "Name: kat, dtype: int64"
      ]
     },
     "execution_count": 16,
     "metadata": {},
     "output_type": "execute_result"
    }
   ],
   "source": [
    "df.kat.value_counts()"
   ]
  },
  {
   "cell_type": "code",
   "execution_count": 17,
   "id": "6ff9d764",
   "metadata": {},
   "outputs": [
    {
     "data": {
      "text/plain": [
       "<seaborn.axisgrid.FacetGrid at 0x267395e33a0>"
      ]
     },
     "execution_count": 17,
     "metadata": {},
     "output_type": "execute_result"
    },
    {
     "data": {
      "image/png": "[encoded data removed]",
      "text/plain": [
       "<Figure size 360x360 with 1 Axes>"
      ]
     },
     "metadata": {
      "needs_background": "light"
     },
     "output_type": "display_data"
    }
   ],
   "source": [
    "sns.lmplot(x='fiyat', y='net_metrekare', data=df)"
   ]
  },
  {
   "cell_type": "code",
   "execution_count": 18,
   "id": "6628ad3d",
   "metadata": {},
   "outputs": [
    {
     "data": {
      "text/plain": [
       "<seaborn.axisgrid.FacetGrid at 0x267395ef250>"
      ]
     },
     "execution_count": 18,
     "metadata": {},
     "output_type": "execute_result"
    },
    {
     "data": {
      "image/png": "[encoded data removed]",
      "text/plain": [
       "<Figure size 408.75x360 with 1 Axes>"
      ]
     },
     "metadata": {
      "needs_background": "light"
     },
     "output_type": "display_data"
    }
   ],
   "source": [
    "sns.lmplot(x = 'net_metrekare', y = 'oda_sayisi', fit_reg = False, hue = 'kat', data = df)"
   ]
  },
  {
   "cell_type": "code",
   "execution_count": 19,
   "id": "d3f0de35",
   "metadata": {},
   "outputs": [
    {
     "data": {
      "text/plain": [
       "<AxesSubplot:xlabel='yas', ylabel='fiyat'>"
      ]
     },
     "execution_count": 19,
     "metadata": {},
     "output_type": "execute_result"
    },
    {
     "data": {
      "image/png": "[encoded data removed]",
      "text/plain": [
       "<Figure size 432x288 with 1 Axes>"
      ]
     },
     "metadata": {
      "needs_background": "light"
     },
     "output_type": "display_data"
    }
   ],
   "source": [
    "sns.barplot(x = \"yas\", y = \"fiyat\", data = df)"
   ]
  },
  {
   "cell_type": "code",
   "execution_count": 20,
   "id": "326aa8f9",
   "metadata": {},
   "outputs": [],
   "source": [
    "from sklearn import preprocessing \n",
    "le = preprocessing.LabelEncoder()"
   ]
  },
  {
   "cell_type": "code",
   "execution_count": 21,
   "id": "c02a1ad7",
   "metadata": {},
   "outputs": [],
   "source": [
    "import pandas as pd"
   ]
  },
  {
   "cell_type": "code",
   "execution_count": 22,
   "id": "21e7ab55",
   "metadata": {},
   "outputs": [
    {
     "data": {
      "text/html": [
       "<div>\n",
       "<style scoped>\n",
       "    .dataframe tbody tr th:only-of-type {\n",
       "        vertical-align: middle;\n",
       "    }\n",
       "\n",
       "    .dataframe tbody tr th {\n",
       "        vertical-align: top;\n",
       "    }\n",
       "\n",
       "    .dataframe thead th {\n",
       "        text-align: right;\n",
       "    }\n",
       "</style>\n",
       "<table border=\"1\" class=\"dataframe\">\n",
       "  <thead>\n",
       "    <tr style=\"text-align: right;\">\n",
       "      <th></th>\n",
       "      <th>ilce</th>\n",
       "      <th>turu</th>\n",
       "      <th>net_metrekare</th>\n",
       "      <th>oda_sayisi</th>\n",
       "      <th>kat</th>\n",
       "      <th>yas</th>\n",
       "      <th>fiyat</th>\n",
       "    </tr>\n",
       "  </thead>\n",
       "  <tbody>\n",
       "    <tr>\n",
       "      <th>0</th>\n",
       "      <td>4</td>\n",
       "      <td>11</td>\n",
       "      <td>150</td>\n",
       "      <td>3</td>\n",
       "      <td>1</td>\n",
       "      <td>26</td>\n",
       "      <td>350000</td>\n",
       "    </tr>\n",
       "    <tr>\n",
       "      <th>1</th>\n",
       "      <td>4</td>\n",
       "      <td>11</td>\n",
       "      <td>140</td>\n",
       "      <td>4</td>\n",
       "      <td>3</td>\n",
       "      <td>8</td>\n",
       "      <td>690000</td>\n",
       "    </tr>\n",
       "    <tr>\n",
       "      <th>2</th>\n",
       "      <td>4</td>\n",
       "      <td>11</td>\n",
       "      <td>110</td>\n",
       "      <td>5</td>\n",
       "      <td>1</td>\n",
       "      <td>18</td>\n",
       "      <td>267500</td>\n",
       "    </tr>\n",
       "    <tr>\n",
       "      <th>3</th>\n",
       "      <td>10</td>\n",
       "      <td>11</td>\n",
       "      <td>100</td>\n",
       "      <td>3</td>\n",
       "      <td>2</td>\n",
       "      <td>18</td>\n",
       "      <td>285000</td>\n",
       "    </tr>\n",
       "    <tr>\n",
       "      <th>4</th>\n",
       "      <td>10</td>\n",
       "      <td>12</td>\n",
       "      <td>160</td>\n",
       "      <td>4</td>\n",
       "      <td>7</td>\n",
       "      <td>14</td>\n",
       "      <td>570000</td>\n",
       "    </tr>\n",
       "  </tbody>\n",
       "</table>\n",
       "</div>"
      ],
      "text/plain": [
       "   ilce  turu  net_metrekare  oda_sayisi  kat  yas   fiyat\n",
       "0     4    11            150           3    1   26  350000\n",
       "1     4    11            140           4    3    8  690000\n",
       "2     4    11            110           5    1   18  267500\n",
       "3    10    11            100           3    2   18  285000\n",
       "4    10    12            160           4    7   14  570000"
      ]
     },
     "execution_count": 22,
     "metadata": {},
     "output_type": "execute_result"
    }
   ],
   "source": [
    "df = pd.read_excel(\"evler.xlsx\")\n",
    "\n",
    "df.head()"
   ]
  },
  {
   "cell_type": "code",
   "execution_count": 23,
   "id": "3bbfa134",
   "metadata": {},
   "outputs": [
    {
     "data": {
      "text/html": [
       "<div>\n",
       "<style scoped>\n",
       "    .dataframe tbody tr th:only-of-type {\n",
       "        vertical-align: middle;\n",
       "    }\n",
       "\n",
       "    .dataframe tbody tr th {\n",
       "        vertical-align: top;\n",
       "    }\n",
       "\n",
       "    .dataframe thead th {\n",
       "        text-align: right;\n",
       "    }\n",
       "</style>\n",
       "<table border=\"1\" class=\"dataframe\">\n",
       "  <thead>\n",
       "    <tr style=\"text-align: right;\">\n",
       "      <th></th>\n",
       "      <th>ilce</th>\n",
       "      <th>turu</th>\n",
       "      <th>net_metrekare</th>\n",
       "      <th>oda_sayisi</th>\n",
       "      <th>kat</th>\n",
       "      <th>yas</th>\n",
       "      <th>fiyat</th>\n",
       "    </tr>\n",
       "  </thead>\n",
       "  <tbody>\n",
       "    <tr>\n",
       "      <th>0</th>\n",
       "      <td>4</td>\n",
       "      <td>11</td>\n",
       "      <td>150</td>\n",
       "      <td>3</td>\n",
       "      <td>1</td>\n",
       "      <td>26</td>\n",
       "      <td>350000</td>\n",
       "    </tr>\n",
       "    <tr>\n",
       "      <th>1</th>\n",
       "      <td>4</td>\n",
       "      <td>11</td>\n",
       "      <td>140</td>\n",
       "      <td>4</td>\n",
       "      <td>3</td>\n",
       "      <td>8</td>\n",
       "      <td>690000</td>\n",
       "    </tr>\n",
       "    <tr>\n",
       "      <th>2</th>\n",
       "      <td>4</td>\n",
       "      <td>11</td>\n",
       "      <td>110</td>\n",
       "      <td>5</td>\n",
       "      <td>1</td>\n",
       "      <td>18</td>\n",
       "      <td>267500</td>\n",
       "    </tr>\n",
       "    <tr>\n",
       "      <th>3</th>\n",
       "      <td>10</td>\n",
       "      <td>11</td>\n",
       "      <td>100</td>\n",
       "      <td>3</td>\n",
       "      <td>2</td>\n",
       "      <td>18</td>\n",
       "      <td>285000</td>\n",
       "    </tr>\n",
       "    <tr>\n",
       "      <th>4</th>\n",
       "      <td>10</td>\n",
       "      <td>12</td>\n",
       "      <td>160</td>\n",
       "      <td>4</td>\n",
       "      <td>7</td>\n",
       "      <td>14</td>\n",
       "      <td>570000</td>\n",
       "    </tr>\n",
       "    <tr>\n",
       "      <th>...</th>\n",
       "      <td>...</td>\n",
       "      <td>...</td>\n",
       "      <td>...</td>\n",
       "      <td>...</td>\n",
       "      <td>...</td>\n",
       "      <td>...</td>\n",
       "      <td>...</td>\n",
       "    </tr>\n",
       "    <tr>\n",
       "      <th>94</th>\n",
       "      <td>1</td>\n",
       "      <td>12</td>\n",
       "      <td>190</td>\n",
       "      <td>5</td>\n",
       "      <td>2</td>\n",
       "      <td>3</td>\n",
       "      <td>555000</td>\n",
       "    </tr>\n",
       "    <tr>\n",
       "      <th>95</th>\n",
       "      <td>1</td>\n",
       "      <td>12</td>\n",
       "      <td>135</td>\n",
       "      <td>4</td>\n",
       "      <td>2</td>\n",
       "      <td>6</td>\n",
       "      <td>460000</td>\n",
       "    </tr>\n",
       "    <tr>\n",
       "      <th>96</th>\n",
       "      <td>5</td>\n",
       "      <td>12</td>\n",
       "      <td>100</td>\n",
       "      <td>5</td>\n",
       "      <td>2</td>\n",
       "      <td>4</td>\n",
       "      <td>245000</td>\n",
       "    </tr>\n",
       "    <tr>\n",
       "      <th>97</th>\n",
       "      <td>5</td>\n",
       "      <td>12</td>\n",
       "      <td>290</td>\n",
       "      <td>4</td>\n",
       "      <td>2</td>\n",
       "      <td>2</td>\n",
       "      <td>489000</td>\n",
       "    </tr>\n",
       "    <tr>\n",
       "      <th>98</th>\n",
       "      <td>3</td>\n",
       "      <td>12</td>\n",
       "      <td>175</td>\n",
       "      <td>3</td>\n",
       "      <td>1</td>\n",
       "      <td>5</td>\n",
       "      <td>359000</td>\n",
       "    </tr>\n",
       "  </tbody>\n",
       "</table>\n",
       "<p>99 rows × 7 columns</p>\n",
       "</div>"
      ],
      "text/plain": [
       "    ilce  turu  net_metrekare  oda_sayisi  kat  yas   fiyat\n",
       "0      4    11            150           3    1   26  350000\n",
       "1      4    11            140           4    3    8  690000\n",
       "2      4    11            110           5    1   18  267500\n",
       "3     10    11            100           3    2   18  285000\n",
       "4     10    12            160           4    7   14  570000\n",
       "..   ...   ...            ...         ...  ...  ...     ...\n",
       "94     1    12            190           5    2    3  555000\n",
       "95     1    12            135           4    2    6  460000\n",
       "96     5    12            100           5    2    4  245000\n",
       "97     5    12            290           4    2    2  489000\n",
       "98     3    12            175           3    1    5  359000\n",
       "\n",
       "[99 rows x 7 columns]"
      ]
     },
     "execution_count": 23,
     "metadata": {},
     "output_type": "execute_result"
    }
   ],
   "source": [
    "df"
   ]
  },
  {
   "cell_type": "code",
   "execution_count": 24,
   "id": "16315ab0",
   "metadata": {},
   "outputs": [],
   "source": [
    "df_2 = df.rename(columns = {\"0\":\"ilce\",\n",
    "                     \"1\":\"turu\",\n",
    "                     \"2\":\"net_metrekare\",\n",
    "                     \"3\":\"oda_sayisi\",\n",
    "                     \"4\":\"kat\",\n",
    "                     \"5\":\"yas\",\n",
    "                     \"6\":\"fiyat\"})"
   ]
  },
  {
   "cell_type": "code",
   "execution_count": 25,
   "id": "805ea15f",
   "metadata": {},
   "outputs": [
    {
     "data": {
      "text/html": [
       "<div>\n",
       "<style scoped>\n",
       "    .dataframe tbody tr th:only-of-type {\n",
       "        vertical-align: middle;\n",
       "    }\n",
       "\n",
       "    .dataframe tbody tr th {\n",
       "        vertical-align: top;\n",
       "    }\n",
       "\n",
       "    .dataframe thead th {\n",
       "        text-align: right;\n",
       "    }\n",
       "</style>\n",
       "<table border=\"1\" class=\"dataframe\">\n",
       "  <thead>\n",
       "    <tr style=\"text-align: right;\">\n",
       "      <th></th>\n",
       "      <th>ilce</th>\n",
       "      <th>turu</th>\n",
       "      <th>net_metrekare</th>\n",
       "      <th>oda_sayisi</th>\n",
       "      <th>kat</th>\n",
       "      <th>yas</th>\n",
       "      <th>fiyat</th>\n",
       "    </tr>\n",
       "  </thead>\n",
       "  <tbody>\n",
       "    <tr>\n",
       "      <th>0</th>\n",
       "      <td>4</td>\n",
       "      <td>11</td>\n",
       "      <td>150</td>\n",
       "      <td>3</td>\n",
       "      <td>1</td>\n",
       "      <td>26</td>\n",
       "      <td>350000</td>\n",
       "    </tr>\n",
       "    <tr>\n",
       "      <th>1</th>\n",
       "      <td>4</td>\n",
       "      <td>11</td>\n",
       "      <td>140</td>\n",
       "      <td>4</td>\n",
       "      <td>3</td>\n",
       "      <td>8</td>\n",
       "      <td>690000</td>\n",
       "    </tr>\n",
       "    <tr>\n",
       "      <th>2</th>\n",
       "      <td>4</td>\n",
       "      <td>11</td>\n",
       "      <td>110</td>\n",
       "      <td>5</td>\n",
       "      <td>1</td>\n",
       "      <td>18</td>\n",
       "      <td>267500</td>\n",
       "    </tr>\n",
       "    <tr>\n",
       "      <th>3</th>\n",
       "      <td>10</td>\n",
       "      <td>11</td>\n",
       "      <td>100</td>\n",
       "      <td>3</td>\n",
       "      <td>2</td>\n",
       "      <td>18</td>\n",
       "      <td>285000</td>\n",
       "    </tr>\n",
       "    <tr>\n",
       "      <th>4</th>\n",
       "      <td>10</td>\n",
       "      <td>12</td>\n",
       "      <td>160</td>\n",
       "      <td>4</td>\n",
       "      <td>7</td>\n",
       "      <td>14</td>\n",
       "      <td>570000</td>\n",
       "    </tr>\n",
       "  </tbody>\n",
       "</table>\n",
       "</div>"
      ],
      "text/plain": [
       "   ilce  turu  net_metrekare  oda_sayisi  kat  yas   fiyat\n",
       "0     4    11            150           3    1   26  350000\n",
       "1     4    11            140           4    3    8  690000\n",
       "2     4    11            110           5    1   18  267500\n",
       "3    10    11            100           3    2   18  285000\n",
       "4    10    12            160           4    7   14  570000"
      ]
     },
     "execution_count": 25,
     "metadata": {},
     "output_type": "execute_result"
    }
   ],
   "source": [
    "df_2.head()"
   ]
  },
  {
   "cell_type": "code",
   "execution_count": 26,
   "id": "915f2c3d",
   "metadata": {},
   "outputs": [
    {
     "data": {
      "text/plain": [
       "Index(['ilce', 'turu', 'net_metrekare', 'oda_sayisi', 'kat', 'yas', 'fiyat'], dtype='object')"
      ]
     },
     "execution_count": 26,
     "metadata": {},
     "output_type": "execute_result"
    }
   ],
   "source": [
    "df_2.columns"
   ]
  },
  {
   "cell_type": "code",
   "execution_count": 27,
   "id": "54955251",
   "metadata": {},
   "outputs": [],
   "source": [
    "df = pd.read_excel(\"evler.xlsx\")\n",
    "df_2 = df.copy()\n",
    "df_3 = df.copy()"
   ]
  },
  {
   "cell_type": "code",
   "execution_count": 28,
   "id": "1bf614c9",
   "metadata": {},
   "outputs": [
    {
     "data": {
      "text/html": [
       "<div>\n",
       "<style scoped>\n",
       "    .dataframe tbody tr th:only-of-type {\n",
       "        vertical-align: middle;\n",
       "    }\n",
       "\n",
       "    .dataframe tbody tr th {\n",
       "        vertical-align: top;\n",
       "    }\n",
       "\n",
       "    .dataframe thead th {\n",
       "        text-align: right;\n",
       "    }\n",
       "</style>\n",
       "<table border=\"1\" class=\"dataframe\">\n",
       "  <thead>\n",
       "    <tr style=\"text-align: right;\">\n",
       "      <th></th>\n",
       "      <th>ilce</th>\n",
       "      <th>turu</th>\n",
       "      <th>net_metrekare</th>\n",
       "      <th>oda_sayisi</th>\n",
       "      <th>kat</th>\n",
       "      <th>yas</th>\n",
       "      <th>fiyat</th>\n",
       "    </tr>\n",
       "  </thead>\n",
       "  <tbody>\n",
       "    <tr>\n",
       "      <th>0</th>\n",
       "      <td>4</td>\n",
       "      <td>11</td>\n",
       "      <td>150</td>\n",
       "      <td>3</td>\n",
       "      <td>1</td>\n",
       "      <td>26</td>\n",
       "      <td>350000</td>\n",
       "    </tr>\n",
       "    <tr>\n",
       "      <th>1</th>\n",
       "      <td>4</td>\n",
       "      <td>11</td>\n",
       "      <td>140</td>\n",
       "      <td>4</td>\n",
       "      <td>3</td>\n",
       "      <td>8</td>\n",
       "      <td>690000</td>\n",
       "    </tr>\n",
       "    <tr>\n",
       "      <th>2</th>\n",
       "      <td>4</td>\n",
       "      <td>11</td>\n",
       "      <td>110</td>\n",
       "      <td>5</td>\n",
       "      <td>1</td>\n",
       "      <td>18</td>\n",
       "      <td>267500</td>\n",
       "    </tr>\n",
       "    <tr>\n",
       "      <th>3</th>\n",
       "      <td>10</td>\n",
       "      <td>11</td>\n",
       "      <td>100</td>\n",
       "      <td>3</td>\n",
       "      <td>2</td>\n",
       "      <td>18</td>\n",
       "      <td>285000</td>\n",
       "    </tr>\n",
       "    <tr>\n",
       "      <th>4</th>\n",
       "      <td>10</td>\n",
       "      <td>12</td>\n",
       "      <td>160</td>\n",
       "      <td>4</td>\n",
       "      <td>7</td>\n",
       "      <td>14</td>\n",
       "      <td>570000</td>\n",
       "    </tr>\n",
       "    <tr>\n",
       "      <th>...</th>\n",
       "      <td>...</td>\n",
       "      <td>...</td>\n",
       "      <td>...</td>\n",
       "      <td>...</td>\n",
       "      <td>...</td>\n",
       "      <td>...</td>\n",
       "      <td>...</td>\n",
       "    </tr>\n",
       "    <tr>\n",
       "      <th>94</th>\n",
       "      <td>1</td>\n",
       "      <td>12</td>\n",
       "      <td>190</td>\n",
       "      <td>5</td>\n",
       "      <td>2</td>\n",
       "      <td>3</td>\n",
       "      <td>555000</td>\n",
       "    </tr>\n",
       "    <tr>\n",
       "      <th>95</th>\n",
       "      <td>1</td>\n",
       "      <td>12</td>\n",
       "      <td>135</td>\n",
       "      <td>4</td>\n",
       "      <td>2</td>\n",
       "      <td>6</td>\n",
       "      <td>460000</td>\n",
       "    </tr>\n",
       "    <tr>\n",
       "      <th>96</th>\n",
       "      <td>5</td>\n",
       "      <td>12</td>\n",
       "      <td>100</td>\n",
       "      <td>5</td>\n",
       "      <td>2</td>\n",
       "      <td>4</td>\n",
       "      <td>245000</td>\n",
       "    </tr>\n",
       "    <tr>\n",
       "      <th>97</th>\n",
       "      <td>5</td>\n",
       "      <td>12</td>\n",
       "      <td>290</td>\n",
       "      <td>4</td>\n",
       "      <td>2</td>\n",
       "      <td>2</td>\n",
       "      <td>489000</td>\n",
       "    </tr>\n",
       "    <tr>\n",
       "      <th>98</th>\n",
       "      <td>3</td>\n",
       "      <td>12</td>\n",
       "      <td>175</td>\n",
       "      <td>3</td>\n",
       "      <td>1</td>\n",
       "      <td>5</td>\n",
       "      <td>359000</td>\n",
       "    </tr>\n",
       "  </tbody>\n",
       "</table>\n",
       "<p>99 rows × 7 columns</p>\n",
       "</div>"
      ],
      "text/plain": [
       "    ilce  turu  net_metrekare  oda_sayisi  kat  yas   fiyat\n",
       "0      4    11            150           3    1   26  350000\n",
       "1      4    11            140           4    3    8  690000\n",
       "2      4    11            110           5    1   18  267500\n",
       "3     10    11            100           3    2   18  285000\n",
       "4     10    12            160           4    7   14  570000\n",
       "..   ...   ...            ...         ...  ...  ...     ...\n",
       "94     1    12            190           5    2    3  555000\n",
       "95     1    12            135           4    2    6  460000\n",
       "96     5    12            100           5    2    4  245000\n",
       "97     5    12            290           4    2    2  489000\n",
       "98     3    12            175           3    1    5  359000\n",
       "\n",
       "[99 rows x 7 columns]"
      ]
     },
     "execution_count": 28,
     "metadata": {},
     "output_type": "execute_result"
    }
   ],
   "source": [
    "df_2"
   ]
  },
  {
   "cell_type": "code",
   "execution_count": 29,
   "id": "048bdbfd",
   "metadata": {},
   "outputs": [
    {
     "data": {
      "text/plain": [
       "Index(['ilce', 'turu', 'net_metrekare', 'oda_sayisi', 'kat', 'yas', 'fiyat'], dtype='object')"
      ]
     },
     "execution_count": 29,
     "metadata": {},
     "output_type": "execute_result"
    }
   ],
   "source": [
    "df_2.columns"
   ]
  },
  {
   "cell_type": "code",
   "execution_count": 30,
   "id": "c5d9a66f",
   "metadata": {},
   "outputs": [],
   "source": [
    "from sklearn import preprocessing \n",
    "le = preprocessing.LabelEncoder()"
   ]
  },
  {
   "cell_type": "code",
   "execution_count": 31,
   "id": "4b1f4373",
   "metadata": {},
   "outputs": [],
   "source": [
    "df_3[\"ilce\"] = le.fit_transform(df_2.ilce)"
   ]
  },
  {
   "cell_type": "code",
   "execution_count": 32,
   "id": "875bf10e",
   "metadata": {},
   "outputs": [
    {
     "data": {
      "text/plain": [
       "array([ 1,  2,  3,  4,  5,  6,  7,  8,  9, 10], dtype=int64)"
      ]
     },
     "execution_count": 32,
     "metadata": {},
     "output_type": "execute_result"
    }
   ],
   "source": [
    "le.classes_"
   ]
  },
  {
   "cell_type": "code",
   "execution_count": 33,
   "id": "f71bb999",
   "metadata": {},
   "outputs": [
    {
     "data": {
      "text/plain": [
       "array([3, 9, 6, 7, 1, 2, 5, 8, 4, 0], dtype=int64)"
      ]
     },
     "execution_count": 33,
     "metadata": {},
     "output_type": "execute_result"
    }
   ],
   "source": [
    "df_3.ilce.unique()"
   ]
  },
  {
   "cell_type": "code",
   "execution_count": 34,
   "id": "91cc7523",
   "metadata": {},
   "outputs": [
    {
     "data": {
      "text/plain": [
       "array([2], dtype=int64)"
      ]
     },
     "execution_count": 34,
     "metadata": {},
     "output_type": "execute_result"
    }
   ],
   "source": [
    "le.inverse_transform([1])"
   ]
  },
  {
   "cell_type": "code",
   "execution_count": 35,
   "id": "114b109a",
   "metadata": {},
   "outputs": [],
   "source": [
    "df_3[\"turu\"] = le.fit_transform(df_2.turu)"
   ]
  },
  {
   "cell_type": "code",
   "execution_count": 36,
   "id": "a9aac2c8",
   "metadata": {},
   "outputs": [],
   "source": [
    "df_3[\"net_metrekare\"] = le.fit_transform(df_2.net_metrekare)"
   ]
  },
  {
   "cell_type": "code",
   "execution_count": 37,
   "id": "99de9fff",
   "metadata": {},
   "outputs": [],
   "source": [
    "df_3[\"oda_sayisi\"] = le.fit_transform(df_2.oda_sayisi)"
   ]
  },
  {
   "cell_type": "code",
   "execution_count": 38,
   "id": "62b8c826",
   "metadata": {},
   "outputs": [],
   "source": [
    "df_3[\"kat\"] = le.fit_transform(df_2.kat)"
   ]
  },
  {
   "cell_type": "code",
   "execution_count": 39,
   "id": "05928cbb",
   "metadata": {},
   "outputs": [],
   "source": [
    "df_3[\"yas\"] = le.fit_transform(df_2.yas)"
   ]
  },
  {
   "cell_type": "code",
   "execution_count": 40,
   "id": "cf18fa9f",
   "metadata": {},
   "outputs": [],
   "source": [
    "df_3[\"fiyat\"] = le.fit_transform(df_2.fiyat)"
   ]
  },
  {
   "cell_type": "code",
   "execution_count": 41,
   "id": "0d064c1e",
   "metadata": {},
   "outputs": [],
   "source": [
    "df_3.to_excel(\"ilce_3.xlsx\")"
   ]
  },
  {
   "cell_type": "code",
   "execution_count": 42,
   "id": "b9271ecb",
   "metadata": {},
   "outputs": [],
   "source": [
    "import pandas as pd"
   ]
  },
  {
   "cell_type": "code",
   "execution_count": 43,
   "id": "c6632bc7",
   "metadata": {},
   "outputs": [],
   "source": [
    "df_2 = pd.read_excel(\"evler.xlsx\")\n"
   ]
  },
  {
   "cell_type": "code",
   "execution_count": 44,
   "id": "4561012e",
   "metadata": {},
   "outputs": [],
   "source": [
    "df = df[[\"ilce\",\"turu\",\"net_metrekare\",\"oda_sayisi\",\"kat\",\"yas\",\"fiyat\"]]"
   ]
  },
  {
   "cell_type": "code",
   "execution_count": 45,
   "id": "47c49d92",
   "metadata": {},
   "outputs": [],
   "source": [
    "X = df.drop([\"fiyat\"], axis = 1)\n",
    "y = df[\"fiyat\"]"
   ]
  },
  {
   "cell_type": "code",
   "execution_count": 46,
   "id": "e64436b5",
   "metadata": {},
   "outputs": [],
   "source": [
    "from sklearn.model_selection import train_test_split, GridSearchCV,cross_val_score\n",
    "from sklearn.metrics import mean_squared_error, r2_score\n",
    "import numpy as np\n",
    "import pandas as pd"
   ]
  },
  {
   "cell_type": "code",
   "execution_count": 47,
   "id": "054edfc7",
   "metadata": {},
   "outputs": [],
   "source": [
    "from sklearn import model_selection"
   ]
  },
  {
   "cell_type": "code",
   "execution_count": 48,
   "id": "ede43147",
   "metadata": {},
   "outputs": [],
   "source": [
    "X_train, X_test, y_train, y_test = train_test_split(X, y, test_size = 0.25, random_state = 144)"
   ]
  },
  {
   "cell_type": "code",
   "execution_count": 49,
   "id": "8cbe5fda",
   "metadata": {},
   "outputs": [],
   "source": [
    "params = {\"colsample_bytree\":[0.4,0.5,0.6],\n",
    "         \"learning_rate\":[0.01,0.02,0.09],\n",
    "         \"max_depth\":[2,3,4,5,6],\n",
    "         \"n_estimators\":[100,200,500,2000]}"
   ]
  },
  {
   "cell_type": "code",
   "execution_count": 50,
   "id": "4f0c14eb",
   "metadata": {},
   "outputs": [],
   "source": [
    "xgb = XGBRegressor()"
   ]
  },
  {
   "cell_type": "code",
   "execution_count": 51,
   "id": "ff66fcc5",
   "metadata": {},
   "outputs": [],
   "source": [
    "grid = GridSearchCV(xgb, params, cv = 10, n_jobs = -1, verbose = 2)"
   ]
  },
  {
   "cell_type": "code",
   "execution_count": 52,
   "id": "b9b62f90",
   "metadata": {},
   "outputs": [
    {
     "name": "stdout",
     "output_type": "stream",
     "text": [
      "Fitting 10 folds for each of 180 candidates, totalling 1800 fits\n"
     ]
    },
    {
     "data": {
      "text/plain": [
       "GridSearchCV(cv=10,\n",
       "             estimator=XGBRegressor(base_score=None, booster=None,\n",
       "                                    colsample_bylevel=None,\n",
       "                                    colsample_bynode=None,\n",
       "                                    colsample_bytree=None,\n",
       "                                    enable_categorical=False, gamma=None,\n",
       "                                    gpu_id=None, importance_type=None,\n",
       "                                    interaction_constraints=None,\n",
       "                                    learning_rate=None, max_delta_step=None,\n",
       "                                    max_depth=None, min_child_weight=None,\n",
       "                                    missing=nan, monotone_constraints=None,\n",
       "                                    n_estimators=100, n_jobs=None,\n",
       "                                    num_parallel_tree=None, predictor=None,\n",
       "                                    random_state=None, reg_alpha=None,\n",
       "                                    reg_lambda=None, scale_pos_weight=None,\n",
       "                                    subsample=None, tree_method=None,\n",
       "                                    validate_parameters=None, verbosity=None),\n",
       "             n_jobs=-1,\n",
       "             param_grid={'colsample_bytree': [0.4, 0.5, 0.6],\n",
       "                         'learning_rate': [0.01, 0.02, 0.09],\n",
       "                         'max_depth': [2, 3, 4, 5, 6],\n",
       "                         'n_estimators': [100, 200, 500, 2000]},\n",
       "             verbose=2)"
      ]
     },
     "execution_count": 52,
     "metadata": {},
     "output_type": "execute_result"
    }
   ],
   "source": [
    "grid.fit(X_train, y_train)"
   ]
  },
  {
   "cell_type": "code",
   "execution_count": 53,
   "id": "d273aded",
   "metadata": {},
   "outputs": [
    {
     "data": {
      "text/plain": [
       "{'colsample_bytree': 0.5,\n",
       " 'learning_rate': 0.02,\n",
       " 'max_depth': 6,\n",
       " 'n_estimators': 200}"
      ]
     },
     "execution_count": 53,
     "metadata": {},
     "output_type": "execute_result"
    }
   ],
   "source": [
    "grid.best_params_"
   ]
  },
  {
   "cell_type": "code",
   "execution_count": 54,
   "id": "e0161f66",
   "metadata": {},
   "outputs": [],
   "source": [
    "xgb1 = XGBRegressor(colsample_bytree = 0.5, learning_rate = 0.02, max_depth = 6, n_estimators = 200)"
   ]
  },
  {
   "cell_type": "code",
   "execution_count": 55,
   "id": "9e95cf6c",
   "metadata": {},
   "outputs": [],
   "source": [
    "model_xgb = xgb1.fit(X_train, y_train)"
   ]
  },
  {
   "cell_type": "code",
   "execution_count": 56,
   "id": "fbfbcfa2",
   "metadata": {},
   "outputs": [
    {
     "data": {
      "text/plain": [
       "array([343801.44, 572446.7 , 651319.2 , 373234.78, 744696.4 ],\n",
       "      dtype=float32)"
      ]
     },
     "execution_count": 56,
     "metadata": {},
     "output_type": "execute_result"
    }
   ],
   "source": [
    "model_xgb.predict(X_test)[15:20]"
   ]
  },
  {
   "cell_type": "code",
   "execution_count": 57,
   "id": "c8864c69",
   "metadata": {},
   "outputs": [
    {
     "data": {
      "text/plain": [
       "71    255000\n",
       "89    900000\n",
       "18    740000\n",
       "79    365000\n",
       "58    450000\n",
       "Name: fiyat, dtype: int64"
      ]
     },
     "execution_count": 57,
     "metadata": {},
     "output_type": "execute_result"
    }
   ],
   "source": [
    "y_test[15:20]"
   ]
  },
  {
   "cell_type": "code",
   "execution_count": 58,
   "id": "46b28720",
   "metadata": {},
   "outputs": [
    {
     "data": {
      "text/plain": [
       "0.005338984881254838"
      ]
     },
     "execution_count": 58,
     "metadata": {},
     "output_type": "execute_result"
    }
   ],
   "source": [
    "model_xgb.score(X_test, y_test)"
   ]
  },
  {
   "cell_type": "code",
   "execution_count": 59,
   "id": "a72ef50d",
   "metadata": {},
   "outputs": [
    {
     "data": {
      "text/plain": [
       "0.9012081326705943"
      ]
     },
     "execution_count": 59,
     "metadata": {},
     "output_type": "execute_result"
    }
   ],
   "source": [
    "model_xgb.score(X_train, y_train)"
   ]
  },
  {
   "cell_type": "code",
   "execution_count": 60,
   "id": "534ca60e",
   "metadata": {},
   "outputs": [
    {
     "data": {
      "text/plain": [
       "163651.32353252312"
      ]
     },
     "execution_count": 60,
     "metadata": {},
     "output_type": "execute_result"
    }
   ],
   "source": [
    "np.sqrt(-1*(cross_val_score(model_xgb, X_test, y_test, cv=10, scoring='neg_mean_squared_error'))).mean()"
   ]
  },
  {
   "cell_type": "code",
   "execution_count": 61,
   "id": "d6606632",
   "metadata": {},
   "outputs": [],
   "source": [
    "importance = pd.DataFrame({\"Importance\": model_xgb.feature_importances_},\n",
    "                         index=X_train.columns)"
   ]
  },
  {
   "cell_type": "code",
   "execution_count": 62,
   "id": "8f2ff963",
   "metadata": {},
   "outputs": [
    {
     "data": {
      "text/html": [
       "<div>\n",
       "<style scoped>\n",
       "    .dataframe tbody tr th:only-of-type {\n",
       "        vertical-align: middle;\n",
       "    }\n",
       "\n",
       "    .dataframe tbody tr th {\n",
       "        vertical-align: top;\n",
       "    }\n",
       "\n",
       "    .dataframe thead th {\n",
       "        text-align: right;\n",
       "    }\n",
       "</style>\n",
       "<table border=\"1\" class=\"dataframe\">\n",
       "  <thead>\n",
       "    <tr style=\"text-align: right;\">\n",
       "      <th></th>\n",
       "      <th>Importance</th>\n",
       "    </tr>\n",
       "  </thead>\n",
       "  <tbody>\n",
       "    <tr>\n",
       "      <th>ilce</th>\n",
       "      <td>0.104928</td>\n",
       "    </tr>\n",
       "    <tr>\n",
       "      <th>turu</th>\n",
       "      <td>0.055466</td>\n",
       "    </tr>\n",
       "    <tr>\n",
       "      <th>net_metrekare</th>\n",
       "      <td>0.156024</td>\n",
       "    </tr>\n",
       "    <tr>\n",
       "      <th>oda_sayisi</th>\n",
       "      <td>0.441842</td>\n",
       "    </tr>\n",
       "    <tr>\n",
       "      <th>kat</th>\n",
       "      <td>0.140821</td>\n",
       "    </tr>\n",
       "    <tr>\n",
       "      <th>yas</th>\n",
       "      <td>0.100918</td>\n",
       "    </tr>\n",
       "  </tbody>\n",
       "</table>\n",
       "</div>"
      ],
      "text/plain": [
       "               Importance\n",
       "ilce             0.104928\n",
       "turu             0.055466\n",
       "net_metrekare    0.156024\n",
       "oda_sayisi       0.441842\n",
       "kat              0.140821\n",
       "yas              0.100918"
      ]
     },
     "execution_count": 62,
     "metadata": {},
     "output_type": "execute_result"
    }
   ],
   "source": [
    "importance"
   ]
  },
  {
   "cell_type": "code",
   "execution_count": null,
   "id": "1773f7f9",
   "metadata": {},
   "outputs": [],
   "source": []
  }
 ],
 "metadata": {
  "kernelspec": {
   "display_name": "Python 3",
   "language": "python",
   "name": "python3"
  },
  "language_info": {
   "codemirror_mode": {
    "name": "ipython",
    "version": 3
   },
   "file_extension": ".py",
   "mimetype": "text/x-python",
   "name": "python",
   "nbconvert_exporter": "python",
   "pygments_lexer": "ipython3",
   "version": "3.8.8"
  }
 },
 "nbformat": 4,
 "nbformat_minor": 5
}
